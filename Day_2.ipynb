{
  "nbformat": 4,
  "nbformat_minor": 0,
  "metadata": {
    "colab": {
      "provenance": [],
      "authorship_tag": "ABX9TyOcVoTCl55jIOAn3x4T9GoE",
      "include_colab_link": true
    },
    "kernelspec": {
      "name": "ir",
      "display_name": "R"
    },
    "language_info": {
      "name": "R"
    }
  },
  "cells": [
    {
      "cell_type": "markdown",
      "metadata": {
        "id": "view-in-github",
        "colab_type": "text"
      },
      "source": [
        "<a href=\"https://colab.research.google.com/github/lilywright99/scRNAseqtutorial/blob/main/Day_2.ipynb\" target=\"_parent\"><img src=\"https://colab.research.google.com/assets/colab-badge.svg\" alt=\"Open In Colab\"/></a>"
      ]
    },
    {
      "cell_type": "markdown",
      "source": [
        "### **Day 2. Statistics in Single Cell RNA seq data**"
      ],
      "metadata": {
        "id": "vxpT5BbXq__d"
      }
    },
    {
      "cell_type": "markdown",
      "source": [
        "We will use R for the remainder of this course, to set your google co lab to R language, change runtime type from Python to R.\n",
        "\n",
        "We can't mount google drive to co-lab in R runtimes, so upload the X.csv, obs.csv and var.csv to the session storage.\n",
        "\n",
        "(File icon on the left, then document with arrow on it)![Screenshot 2024-11-13 at 10.53.48.png](data:image/png;base64,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)\n",
        "\n",
        "Be aware that if the runtime expires, you will have to reupload these files.\n",
        "You can avoid your runtime expiring by keeping the co-lab notebook as a separate webpage."
      ],
      "metadata": {
        "id": "TpzshpcErEyO"
      }
    },
    {
      "cell_type": "markdown",
      "source": [
        "**1. Install and load the required packages**"
      ],
      "metadata": {
        "id": "sZyKLpioL5G_"
      }
    },
    {
      "cell_type": "code",
      "source": [
        "if (!require(\"BiocManager\", quietly = TRUE))\n",
        "    install.packages(\"BiocManager\")\n",
        "\n",
        "BiocManager::install(\"limma\")\n",
        "install.packages('ggrepel')\n",
        "install.packages(\"WebGestaltR\")"
      ],
      "metadata": {
        "colab": {
          "base_uri": "https://localhost:8080/"
        },
        "id": "kuJ5U94iNXlz",
        "outputId": "e3c5efb0-f2c5-4e18-dbe0-17fa43451011"
      },
      "execution_count": null,
      "outputs": [
        {
          "output_type": "stream",
          "name": "stderr",
          "text": [
            "Installing package into ‘/usr/local/lib/R/site-library’\n",
            "(as ‘lib’ is unspecified)\n",
            "\n",
            "'getOption(\"repos\")' replaces Bioconductor standard repositories, see\n",
            "'help(\"repositories\", package = \"BiocManager\")' for details.\n",
            "Replacement repositories:\n",
            "    CRAN: https://cran.rstudio.com\n",
            "\n",
            "Bioconductor version 3.20 (BiocManager 1.30.25), R 4.4.2 (2024-10-31)\n",
            "\n",
            "Installing package(s) 'BiocVersion', 'limma'\n",
            "\n",
            "also installing the dependency ‘statmod’\n",
            "\n",
            "\n"
          ]
        }
      ]
    },
    {
      "cell_type": "code",
      "source": [
        "library(dplyr)\n",
        "library(ggplot2)\n",
        "library(tidyr)\n",
        "library(limma)\n",
        "library(ggrepel)\n",
        "library(WebGestaltR)"
      ],
      "metadata": {
        "id": "bYZ93ljAL24W"
      },
      "execution_count": null,
      "outputs": []
    },
    {
      "cell_type": "markdown",
      "source": [
        "**1. Read in the 3 csv files**\n",
        "* X is the expression matrix\n",
        "* obs is the observations/metadata\n",
        "* var is the gene names"
      ],
      "metadata": {
        "id": "fjCo0_VDx_S6"
      }
    },
    {
      "cell_type": "code",
      "source": [
        "exp_data <- read.csv('/content/X.csv', header=FALSE)\n",
        "metadata <-read.csv('/content/obs.csv')\n",
        "var_data<- read.csv('/content/var.csv')\n",
        "\n",
        "head(exp_data)\n",
        "head(metadata)\n",
        "head(var_data)"
      ],
      "metadata": {
        "id": "pWC3bvHFrDvj"
      },
      "execution_count": null,
      "outputs": []
    },
    {
      "cell_type": "markdown",
      "source": [
        "**2. Make the row names of exp_data be CellIDs, and the column names be gene names**"
      ],
      "metadata": {
        "id": "3snTOEbVOwLz"
      }
    },
    {
      "cell_type": "code",
      "source": [
        "rownames(exp_data)<-metadatadata$CellID\n",
        "colnames(exp_data)<-var_data$Gene\n",
        "\n",
        "head(exp_data)"
      ],
      "metadata": {
        "id": "2SpfMRznO-rv"
      },
      "execution_count": null,
      "outputs": []
    },
    {
      "cell_type": "markdown",
      "source": [
        "##**Initial visualisations of the data**\n",
        "**1. Calculate the total number of cells per patient**\n"
      ],
      "metadata": {
        "id": "3maI6O4AQHcT"
      }
    },
    {
      "cell_type": "code",
      "source": [
        "cells_per_patient <- metadata %>%\n",
        "  group_by(Patient) %>%\n",
        "  tally()"
      ],
      "metadata": {
        "id": "9Nhcnw3xQKsD"
      },
      "execution_count": null,
      "outputs": []
    },
    {
      "cell_type": "markdown",
      "source": [
        "**2. Use ggplot to plot this as a bar graph**"
      ],
      "metadata": {
        "id": "uedo6NKBQoH-"
      }
    },
    {
      "cell_type": "code",
      "source": [
        "ggplot(cells_per_patient, aes(x = reorder(Patient, -Total_Cells), y = Total_Cells)) +\n",
        "  geom_bar(stat = \"identity\", fill = \"skyblue\") +\n",
        "  labs(title = \"Total Number of Cells per Patient\", x = \"Patient ID\", y = \"Total Number of Cells\") +\n",
        "  theme_minimal() +\n",
        "  theme(axis.text.x = element_text(angle = 45, hjust = 1))"
      ],
      "metadata": {
        "id": "96R2usWJQ1N5"
      },
      "execution_count": null,
      "outputs": []
    },
    {
      "cell_type": "markdown",
      "source": [
        "**3. Calculate and plot total cell counts per disease stage**"
      ],
      "metadata": {
        "id": "XrAQHXN3Rf7b"
      }
    },
    {
      "cell_type": "code",
      "source": [
        "cells_per_stage <- metadata %>%\n",
        "  group_by(Disease_stage) %>%\n",
        "  tally()"
      ],
      "metadata": {
        "id": "wnLvaEGXRlK1"
      },
      "execution_count": null,
      "outputs": []
    },
    {
      "cell_type": "code",
      "source": [
        "ggplot(cells_per_stage, aes(x = Disease_stage, y = Total_Cells, fill = Disease_stage)) +\n",
        "  geom_bar(stat = \"identity\") +\n",
        "  labs(title = \"Total Number of Cells per Disease Stage\", x = \"Disease Stage\", y = \"Total Number of Cells\") +\n",
        "  theme_minimal()"
      ],
      "metadata": {
        "id": "ksx72yxoRzJr"
      },
      "execution_count": null,
      "outputs": []
    },
    {
      "cell_type": "markdown",
      "source": [
        "**4. Calculate and plot counts of cell types per disease stage**"
      ],
      "metadata": {
        "id": "OggQz5_2QzS7"
      }
    },
    {
      "cell_type": "code",
      "source": [
        "cell_counts <- obs_data %>%\n",
        "  group_by(Celltype, Disease_stage) %>%\n",
        "  tally()"
      ],
      "metadata": {
        "id": "hWDAeVgIQ9Tz"
      },
      "execution_count": null,
      "outputs": []
    },
    {
      "cell_type": "code",
      "source": [
        "ggplot(cell_counts, aes(x = Disease_stage, y = n, fill = Celltype)) +\n",
        "  geom_bar(stat = \"identity\", position = \"dodge\") +\n",
        "  labs(title = \"Cell Type Distribution by Disease Stage\", x = \"Disease Stage\", y = \"Cell Count\") +\n",
        "  theme_minimal()"
      ],
      "metadata": {
        "id": "yPdEeuvlRAlR"
      },
      "execution_count": null,
      "outputs": []
    },
    {
      "cell_type": "markdown",
      "source": [
        "**5. Perform a statistical test to show if the differences in cell type proportions between disease stage are significant**\n",
        "\n",
        "* T-test in ggplot, between disease stage and cell type\n"
      ],
      "metadata": {
        "id": "zQfGbj3uRDcG"
      }
    },
    {
      "cell_type": "code",
      "source": [],
      "metadata": {
        "id": "e9zFsCbzSIS_"
      },
      "execution_count": null,
      "outputs": []
    },
    {
      "cell_type": "markdown",
      "source": [
        "## **Differential gene expression**\n",
        "* Perform a differential gene expression test between between Secretory Epithelial-1 and Secretory Epithelial-2 using the limma package"
      ],
      "metadata": {
        "id": "Qd5a2x6ISJH3"
      }
    },
    {
      "cell_type": "markdown",
      "source": [
        "**1. Subset the metadata and expression data to the two secretory epithelial cell types**"
      ],
      "metadata": {
        "id": "YbkO4tEoUEjP"
      }
    },
    {
      "cell_type": "code",
      "source": [
        "secretorymeta<- subset(metadata, metadata$Celltype %in%c('Secretory Epithelial-1','Secretory Epithelial-2'))\n",
        "secretoryexp<- subset(exp_data, rownames(exp_data) %in% secretorymeta$CellID)"
      ],
      "metadata": {
        "id": "4lsFbPQYUEFu"
      },
      "execution_count": null,
      "outputs": []
    },
    {
      "cell_type": "markdown",
      "source": [
        "**2.Check dimensions of secretory cell metadata and expression match, do they have the same number of cells?**\n"
      ],
      "metadata": {
        "id": "QJvcko5fUMeK"
      }
    },
    {
      "cell_type": "code",
      "source": [],
      "metadata": {
        "id": "XmxTnIUHTDg3"
      },
      "execution_count": null,
      "outputs": []
    },
    {
      "cell_type": "markdown",
      "source": [
        "**3. Transpose the expression matrix, so columns = cells and rows = genes\n",
        "(this is the input format required by limma)**\n",
        "* Check cell IDs match"
      ],
      "metadata": {
        "id": "28ncXeRXUYg5"
      }
    },
    {
      "cell_type": "code",
      "source": [
        "secretoryexp <- t(secretoryexp)\n",
        "identical(colnames(secretoryexp), secretorymeta$CellID)"
      ],
      "metadata": {
        "id": "67-JygZ9UqZN"
      },
      "execution_count": null,
      "outputs": []
    },
    {
      "cell_type": "markdown",
      "source": [
        "**4. Perform differential gene expression test**"
      ],
      "metadata": {
        "id": "uBdV0yeKUuHy"
      }
    },
    {
      "cell_type": "code",
      "source": [
        "design <- model.matrix(~ Celltype, data = secretorymeta)\n",
        "fit <- lmFit(secretoryexp, design)\n",
        "fit <- eBayes(fit, trend = TRUE)"
      ],
      "metadata": {
        "id": "8qmIBd12U47d"
      },
      "execution_count": null,
      "outputs": []
    },
    {
      "cell_type": "markdown",
      "source": [
        "**5. Print top 20 differentially expressed gene**"
      ],
      "metadata": {
        "id": "cW7p15_EU-he"
      }
    },
    {
      "cell_type": "code",
      "source": [
        "top20genes <- topTable(fit, coef = 2, number = 20)\n",
        "print(top20genes"
      ],
      "metadata": {
        "id": "gKUDkV2CVEfb"
      },
      "execution_count": null,
      "outputs": []
    },
    {
      "cell_type": "markdown",
      "source": [
        "**6. Plot a volcano plot of top 100 differentially expressed genes**"
      ],
      "metadata": {
        "id": "rtccodupVJb0"
      }
    },
    {
      "cell_type": "code",
      "source": [
        "top_genes_df <- topTable(fit, coef = 2, number = 100)\n",
        "top_genes_df$significance <- ifelse(top_genes_df$P.Value < 0.05 & abs(top_genes_df$logFC) > 1,\n",
        "                                    \"Significant\", \"Not Significant\")"
      ],
      "metadata": {
        "id": "49UguBg9VYP-"
      },
      "execution_count": null,
      "outputs": []
    },
    {
      "cell_type": "code",
      "source": [
        "volcanoplot <- ggplot(top_genes_df, aes(x = logFC, y = -log10(P.Value), color = significance)) +\n",
        "  geom_point(alpha = 0.6, size = 2) +\n",
        "  scale_color_manual(values = c(\"Not Significant\" = \"gray\", \"Significant\" = \"red\")) +\n",
        "  theme_minimal() +\n",
        "  labs(title = \"Volcano Plot of Differential Expression\",\n",
        "       x = \"Log2 Fold Change\", y = \"-Log10(p-value)\") +\n",
        "  theme(legend.title = element_blank()) +\n",
        "  theme(legend.position = \"top\")\n",
        "\n",
        "volcanoplot"
      ],
      "metadata": {
        "id": "5Lz3DwssVIk0"
      },
      "execution_count": null,
      "outputs": []
    },
    {
      "cell_type": "markdown",
      "source": [
        "**7. Add gene names to the singificantly differentially expressed genes**"
      ],
      "metadata": {
        "id": "ngNf2TJdVac8"
      }
    },
    {
      "cell_type": "code",
      "source": [
        "volcanoplotlabelled <- volcanoplot +\n",
        "  geom_text_repel(aes(label = ifelse(significance == \"Significant\", rownames(top_genes_df), \"\")),\n",
        "                                                       box.padding = 0.5, point.padding = 0.5,\n",
        "                                                       max.overlaps = 10, size = 3)\n",
        "volcanoplotlabelled"
      ],
      "metadata": {
        "id": "PoGzB8yqVZ9k"
      },
      "execution_count": null,
      "outputs": []
    },
    {
      "cell_type": "markdown",
      "source": [
        "##**Gene Set Enrichment Analysis**\n",
        "* We can get more information about what biological processes or pathways each cell type might be enriched for using gene set enrichment analysis\n",
        "* This will use a package WebGestaltR"
      ],
      "metadata": {
        "id": "J1MiaMhXVmWX"
      }
    },
    {
      "cell_type": "markdown",
      "source": [
        "**1. Import the list of ranked genes from cell types we generated using Scanpy yesterday**"
      ],
      "metadata": {
        "id": "sMJ4C8pIWuhg"
      }
    },
    {
      "cell_type": "code",
      "source": [
        "rankedgenes <- read.csv(\"/content/celltypemarkergenes.csv\")\n",
        "head(rankedgenes)\n"
      ],
      "metadata": {
        "id": "Ixx1R_RjWuAq"
      },
      "execution_count": null,
      "outputs": []
    },
    {
      "cell_type": "markdown",
      "source": [
        "**2. We will look at Secretory Epithelial-1, Secretory Epithelial-2 and STIC lesion cell clusters**\n",
        "* Create  subsets of gene files for each cell type\n",
        "\n"
      ],
      "metadata": {
        "id": "QvVrMIZvc6Fb"
      }
    },
    {
      "cell_type": "code",
      "source": [
        "SE1 <- rankedgenes[, colnames(rankedgenes) %in% c('Secretory.Epithelial.1_n', 'Secretory.Epithelial.1_s'), drop = FALSE]\n",
        "SE2 <- rankedgenes[, colnames(rankedgenes) %in% c('Secretory.Epithelial.2_n', 'Secretory.Epithelial.2_s'), drop = FALSE]\n",
        "STIC <- rankedgenes[, colnames(rankedgenes) %in% c('STIC.lesion_n', 'STIC.lesion_s'), drop = FALSE]\n"
      ],
      "metadata": {
        "id": "WbkjsRyxVmDU"
      },
      "execution_count": null,
      "outputs": []
    },
    {
      "cell_type": "markdown",
      "source": [
        "**3. Save as rank files for input to webgestalt**"
      ],
      "metadata": {
        "id": "d2HTKNKddLlb"
      }
    },
    {
      "cell_type": "code",
      "source": [
        "write.table(SE1, file = \"~/Documents/datasciencecourse/SE1rankedgenes.rnk\", sep = \"\\t\", row.names = FALSE, col.names = FALSE, quote = FALSE)\n",
        "write.table(SE2, file = \"~/Documents/datasciencecourse/SE2rankedgenes.rnk\", sep = \"\\t\", row.names = FALSE, col.names = FALSE, quote = FALSE)\n",
        "write.table(STIC, file = \"~/Documents/datasciencecourse/STICrankedgenes.rnk\", sep = \"\\t\", row.names = FALSE, col.names = FALSE, quote = FALSE)"
      ],
      "metadata": {
        "id": "mcshoCYFdK-c"
      },
      "execution_count": null,
      "outputs": []
    },
    {
      "cell_type": "markdown",
      "source": [
        "**4. Run Webgestalt GSEA for each rank file**"
      ],
      "metadata": {
        "id": "T8CD7QdvdXK0"
      }
    },
    {
      "cell_type": "code",
      "source": [
        "SE1Result <- WebGestaltR(\n",
        "  enrichMethod = \"GSEA\", organism = \"hsapiens\",\n",
        "  enrichDatabase = \"pathway_KEGG\", interestGeneFile = \"~/Documents/datasciencecourse/SE1rankedgenes.rnk\",\n",
        "  interestGeneType = \"genesymbol\", sigMethod = \"top\", topThr = 10, minNum = 5)\n",
        "\n",
        "SE2Result <- WebGestaltR(\n",
        "  enrichMethod = \"GSEA\", organism = \"hsapiens\",\n",
        "  enrichDatabase = \"pathway_KEGG\", interestGeneFile = \"~/Documents/datasciencecourse/SE2rankedgenes.rnk\",\n",
        "  interestGeneType = \"genesymbol\", sigMethod = \"top\", topThr = 10, minNum = 5)\n",
        "\n",
        "STICResult <- WebGestaltR(\n",
        "  enrichMethod = \"GSEA\", organism = \"hsapiens\",\n",
        "  enrichDatabase = \"pathway_KEGG\", interestGeneFile = \"~/Documents/datasciencecourse/STICrankedgenes.rnk\",\n",
        "  interestGeneType = \"genesymbol\", sigMethod = \"top\", topThr = 10, minNum = 5)"
      ],
      "metadata": {
        "id": "OqXMCY4cddCw"
      },
      "execution_count": null,
      "outputs": []
    },
    {
      "cell_type": "markdown",
      "source": [
        "**5. To plot a dotplot of all the results combined**\n",
        "* Add a column to each result table identify cell type\n",
        "* Join the results tables together"
      ],
      "metadata": {
        "id": "2-IdV7ktdloS"
      }
    },
    {
      "cell_type": "code",
      "source": [
        "SE1Result$Celltype = 'Secretory Epithelial-1'\n",
        "SE2Result$Celltype = 'Secretory Epithelial-2'\n",
        "STICResult$Celltype = 'STIC lesion'\n",
        "gsea<- SE1Result %>% bind_rows(SE2Result) %>% bind_rows(STICResult)\n",
        "head(gsea)"
      ],
      "metadata": {
        "id": "hL1i1xhhdlVY"
      },
      "execution_count": null,
      "outputs": []
    },
    {
      "cell_type": "markdown",
      "source": [
        "**6. Plot the dot plot**"
      ],
      "metadata": {
        "id": "BkJpO36Id6AP"
      }
    },
    {
      "cell_type": "code",
      "source": [
        "ggplot(gsea, aes(x = Celltype, y = description)) +\n",
        "  geom_point(aes(size= FDR, color = pValue)) +\n",
        "  scale_color_gradient(low = \"red\", high = \"blue\", name = \"pValue\") +\n",
        "  scale_size_continuous(range = c(0.2, 15)) +\n",
        "  theme_minimal() +\n",
        "  labs(\n",
        "    title = \"GeneSetEnrichmentAnalysis for Secretory epithelial cells and STIC lesions\",\n",
        "    x = \"Cell Types\",\n",
        "    y = \"Pathway Description\"\n",
        "  ) +\n",
        "  theme(axis.text.x = element_text(angle = 45, hjust = 1),\n",
        "        plot.title = element_text(size = 14, face = \"bold\", hjust = 0.8))"
      ],
      "metadata": {
        "id": "3QFWC4eSd5wB"
      },
      "execution_count": null,
      "outputs": []
    },
    {
      "cell_type": "markdown",
      "source": [
        "##**Linear regression**\n",
        "* We can assess correlations in gene expression between 2 genes in one or two cell types"
      ],
      "metadata": {
        "id": "d3EHXYxf0-hE"
      }
    },
    {
      "cell_type": "markdown",
      "source": [
        "**1. Subset the data to secretory epithelial-1 and secretory epithelial-2 again**\n",
        "\n"
      ],
      "metadata": {
        "id": "KT_ebuRV1OjZ"
      }
    },
    {
      "cell_type": "code",
      "source": [
        "secretorymeta<- subset(metadata, metadata$Celltype %in%c('Secretory Epithelial-1','Secretory Epithelial-2'))\n",
        "secretoryexp<- subset(exp_data, rownames(exp_data) %in% secretorymeta$CellID)"
      ],
      "metadata": {
        "id": "5scbFQd_0-Ou"
      },
      "execution_count": null,
      "outputs": []
    },
    {
      "cell_type": "markdown",
      "source": [
        "**2. Create a new column in the metadata with JUNB and IER2 expression for each cell**"
      ],
      "metadata": {
        "id": "TN6gxHPR1dnv"
      }
    },
    {
      "cell_type": "code",
      "source": [
        "secretorymeta$JUNB<-exp_data[row.names(secretoryexp),\"JUNB\"]\n",
        "secretorymeta$IER2<-exp_data[row.names(secretoryexp),\"IER2\"]\n"
      ],
      "metadata": {
        "id": "6g-zv2CE1dZV"
      },
      "execution_count": null,
      "outputs": []
    },
    {
      "cell_type": "markdown",
      "source": [
        "**3. Subset the secretory metadata to contain only cells with JUNB and IER2 expression equal to or greater than 0**"
      ],
      "metadata": {
        "id": "ImbYnAgO2Bh7"
      }
    },
    {
      "cell_type": "code",
      "source": [
        "filtered_meta <- secretorymeta %>%\n",
        "  filter(JUNB >= 0 & IER2 >= 0)\n"
      ],
      "metadata": {
        "id": "HK2la9sK2BUS"
      },
      "execution_count": null,
      "outputs": []
    },
    {
      "cell_type": "markdown",
      "source": [
        "**4. Run the linear regression model**"
      ],
      "metadata": {
        "id": "CSuf7jLk2TXw"
      }
    },
    {
      "cell_type": "code",
      "source": [
        "model <- lm(JUNB ~ IER2, data = filtered_meta)\n",
        "summary(model)"
      ],
      "metadata": {
        "id": "J5lNBgEp2ZYp"
      },
      "execution_count": null,
      "outputs": []
    },
    {
      "cell_type": "markdown",
      "source": [
        "**5.Create a scatter plot of JUNB expression vs IER2 expression**"
      ],
      "metadata": {
        "id": "8Saepoft2abJ"
      }
    },
    {
      "cell_type": "code",
      "source": [
        "geneexpression <- ggplot(filtered_meta, aes(x = JUNB, y = IER2)) +\n",
        "                geom_point() +\n",
        "                geom_smooth(method = \"lm\", color = \"red\", se = TRUE) +\n",
        "                theme_minimal() +\n",
        "                labs(title = \"JUNB Expression vs.IER2 Expression\",\n",
        "                x = \"JUNB Expression\",\n",
        "                y = \"IER2 Expression\") +\n",
        "                theme(axis.text.x = element_text(angle = 45, hjust = 1))\n",
        "geneexpression"
      ],
      "metadata": {
        "id": "hRJnK7lB2eqM"
      },
      "execution_count": null,
      "outputs": []
    },
    {
      "cell_type": "markdown",
      "source": [
        "**6. Add the Rsquared value onto the plot**"
      ],
      "metadata": {
        "id": "NU2SUBoN2q9L"
      }
    },
    {
      "cell_type": "code",
      "source": [
        "r_squared <- summary(model)$r.squared\n",
        "\n",
        "geneexpression<- geneexpression + annotate(\"text\", x = 2, y = 2.5, label = paste(\"R² = \", round(r_squared,3)), size=6)\n",
        "geneexpression\n"
      ],
      "metadata": {
        "id": "GKbw-TXY2t0E"
      },
      "execution_count": null,
      "outputs": []
    },
    {
      "cell_type": "markdown",
      "source": [
        "**7.Colour the points by disease stage or tissue type**\n"
      ],
      "metadata": {
        "id": "ntoWrmZP211W"
      }
    },
    {
      "cell_type": "code",
      "source": [
        "stagegeneexpression<- geneexpression + geom_point(aes(color=Disease_stage))\n",
        "stagegeneexpression\n",
        "\n",
        "tissuegeneexpression<- geneexpression + geom_point(aes(color=Tissue))\n",
        "tissuegeneexpression"
      ],
      "metadata": {
        "id": "M98IAQOP21ej"
      },
      "execution_count": null,
      "outputs": []
    },
    {
      "cell_type": "markdown",
      "source": [
        "##**Correlate several genes against eachother using a correlation matrix**"
      ],
      "metadata": {
        "id": "nzF00ir23Ao_"
      }
    },
    {
      "cell_type": "markdown",
      "source": [
        "**1. Remove values with a standard deviation of 0, as this will break the correlation matrix**"
      ],
      "metadata": {
        "id": "mDIZ_CS93Yyy"
      }
    },
    {
      "cell_type": "code",
      "source": [
        "secretoryexp<- secretoryexp[,apply(secretoryexp,2, sd) > 0]"
      ],
      "metadata": {
        "id": "oRHEFCZe29UH"
      },
      "execution_count": null,
      "outputs": []
    },
    {
      "cell_type": "markdown",
      "source": [
        "**2. Correlate genes against eachother**"
      ],
      "metadata": {
        "id": "xVYDvpai3iY6"
      }
    },
    {
      "cell_type": "code",
      "source": [
        "cordata<-cor(secretoryexp [colnames(secretoryexp)],\n",
        "             secretoryexp[colnames(secretoryexp)])"
      ],
      "metadata": {
        "id": "K7nuFqea3nyh"
      },
      "execution_count": null,
      "outputs": []
    },
    {
      "cell_type": "markdown",
      "source": [
        "**3. Plot a heatmap of the correlation matrix of genes with a correlation score of >0.6**\n",
        "* Define the genes with a correlation score of >0.6\n",
        "* Subset the correlation matrix to these genes only\n",
        "* Plot as a heatmap"
      ],
      "metadata": {
        "id": "o4ZlTQgr3nY-"
      }
    },
    {
      "cell_type": "code",
      "source": [
        "upper_tri <- upper.tri(cordata)\n",
        "high_corr<-which(upper_tri & cordata>0.6, arr.ind=TRUE)\n",
        "\n",
        "corrplot <- cordata[rownames(cordata) %in% rownames(high_corr),]\n",
        "corrplot <- corrplot[,colnames(corrplot) %in% rownames(high_corr)]\n",
        "\n",
        "heatmap(corrplot)\n"
      ],
      "metadata": {
        "id": "JRRf5hs633jl"
      },
      "execution_count": null,
      "outputs": []
    },
    {
      "cell_type": "markdown",
      "source": [],
      "metadata": {
        "id": "PYvyMuI53yHR"
      }
    }
  ]
}