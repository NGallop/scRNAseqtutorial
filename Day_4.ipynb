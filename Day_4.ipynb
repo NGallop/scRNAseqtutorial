{
  "nbformat": 4,
  "nbformat_minor": 0,
  "metadata": {
    "colab": {
      "provenance": [],
      "authorship_tag": "ABX9TyM+hdUKPQU3hbS1E91crV6R",
      "include_colab_link": true
    },
    "kernelspec": {
      "name": "python3",
      "display_name": "Python 3"
    },
    "language_info": {
      "name": "python"
    }
  },
  "cells": [
    {
      "cell_type": "markdown",
      "metadata": {
        "id": "view-in-github",
        "colab_type": "text"
      },
      "source": [
        "<a href=\"https://colab.research.google.com/github/lilywright99/scRNAseqtutorial/blob/main/Day_4.ipynb\" target=\"_parent\"><img src=\"https://colab.research.google.com/assets/colab-badge.svg\" alt=\"Open In Colab\"/></a>"
      ]
    },
    {
      "cell_type": "markdown",
      "source": [
        "Random Forest **(Day 4)**\n",
        "\n",
        "Generate a Random Forest model to see if genes with high leiden values are able to predict cell type\n",
        "1.   Select and SMOTE cell type of interest\n",
        "2.   create training and test set\n",
        "3.   Apply Boruta on training set\n",
        "4.   Validate test set to generate AUC and ER"
      ],
      "metadata": {
        "id": "vCWT_09ilM-8"
      }
    },
    {
      "cell_type": "markdown",
      "source": [
        "### **1. Load in data**"
      ],
      "metadata": {
        "id": "3tlH0_cp0YzT"
      }
    },
    {
      "cell_type": "code",
      "source": [
        "exp_data <- read.csv('/content/X.csv', header=FALSE)\n",
        "metadata <-read.csv('/content/obs.csv')\n",
        "var_data<- read.csv('/content/var.csv')\n",
        "\n",
        "rownames(exp_data)<-metadata$CellID\n",
        "colnames(exp_data)<-var_data$Gene"
      ],
      "metadata": {
        "id": "6_9acehClOLM"
      },
      "execution_count": null,
      "outputs": []
    },
    {
      "cell_type": "markdown",
      "source": [
        "### **2. Create Metadata and Expression data for the 3 cell types; Secretory Epithelial-1, Secretory Epithelial-2, STIC lesion**"
      ],
      "metadata": {
        "id": "ArwowtHTvPEU"
      }
    },
    {
      "cell_type": "code",
      "source": [
        "install.packages(\"dplyr\")\n",
        "library(dplyr)\n",
        "metadata_SE1 <- metadata[metadata$Celltype %in% c('Secretory Epithelial-1'),]\n",
        "exp_data_SE1 <- exp_data[rownames(exp_data) %in% metadata_SE1$CellID,]\n",
        "\n",
        "metadata_SE2 <- metadata[metadata$Celltype %in% c('Secretory Epithelial-2'),]\n",
        "exp_data_SE2 <- exp_data[rownames(exp_data) %in% metadata_SE2$CellID,]\n",
        "\n",
        "metadata_STIC <- metadata[metadata$Celltype %in% c('STIC lesion'),]\n",
        "exp_data_STIC <- exp_data[rownames(exp_data) %in% metadata_STIC$CellID,]"
      ],
      "metadata": {
        "id": "H5A7spvBvIha"
      },
      "execution_count": null,
      "outputs": []
    },
    {
      "cell_type": "markdown",
      "source": [
        "### **3. Analyse disease stages in each cell type and select a cell type for analysis and the disease stage for prediction**"
      ],
      "metadata": {
        "id": "Db5H5lE60PGl"
      }
    },
    {
      "cell_type": "code",
      "source": [
        "install.packages(\"tibble\")\n",
        "library(tibble)\n",
        "#random forest to predict disease stage\n",
        "table(metadata_SE1$Disease_stage)\n",
        "table(metadata_SE2$Disease_stage)\n",
        "table(metadata_STIC$Disease_stage)\n",
        "\n",
        "#subset expression data in SE2 into disease stages\n",
        "exp_data$CellID <- rownames(exp_data)\n",
        "exp_data_SE2 <- merge(metadata_SE2[,c('CellID','Disease_stage')],exp_data, by='CellID')\n",
        "exp_data_SE2$Disease_stage[exp_data_SE2$Disease_stage %in% c('Benign','I','IIIc','IIIc1')] <- c('Rest')\n",
        "library(tibble)\n",
        "exp_data_SE2 <- tibble::column_to_rownames(exp_data_SE2, \"CellID\")\n"
      ],
      "metadata": {
        "id": "UGGNu9ecvRlg"
      },
      "execution_count": null,
      "outputs": []
    },
    {
      "cell_type": "markdown",
      "source": [
        "### **4. Smote**\n"
      ],
      "metadata": {
        "id": "t87clHeB0klV"
      }
    },
    {
      "cell_type": "markdown",
      "source": [
        "**SMOTE (Synthetic Minority Over-sampling Technique)**: A method used to address the issue of imbalanced datasets in machine learning. It helps balance the classes by creating synthetic examples of the minority class rather than simply duplicating existing ones. This makes the dataset more suitable for training machine learning models, which often perform poorly on imbalanced datasets."
      ],
      "metadata": {
        "id": "HOeDALpXNmK8"
      }
    },
    {
      "cell_type": "code",
      "source": [
        "exp_data_SE2$Disease_stage <- as.factor(exp_data_SE2$Disease_stage)\n",
        "\n",
        "table(exp_data_SE2$Disease_stage)\n",
        "exp_data_SE2_smoted <- performanceEstimation::smote(Disease_stage~.,exp_data_SE2, perc.over = 0.5, perc.under =3 )\n",
        "table(exp_data_SE2_smoted$Disease_stage)"
      ],
      "metadata": {
        "id": "KSi2gYAbvRha"
      },
      "execution_count": null,
      "outputs": []
    },
    {
      "cell_type": "markdown",
      "source": [
        "### **5. Random Forest**\n",
        "\n",
        "Random Forest is a versatile and widely used machine learning algorithm that combines the power of multiple decision trees to create a robust and accurate predictive model. It is a type of ensemble learning, where multiple models are trained and combined to improve performance and reduce overfitting.\n"
      ],
      "metadata": {
        "id": "c_b5P_Hs0oIA"
      }
    },
    {
      "cell_type": "markdown",
      "source": [
        "**Create a testing and training set from the expression data of a cell type.**\n",
        "\n",
        "The training set and test set are critical components of the process used to train and evaluate the model. They ensure that the model learns effectively from the data and can generalize well to unseen examples.\n",
        "\n",
        "**Training Set**: The training set is the subset of the data used to build (train) the random forest model.\n",
        "- The algorithm uses the training set to create individual decision trees.\n",
        "- Each tree is trained on a bootstrap sample of the training set, which is a random sample with replacement. This introduces diversity among the trees.\n",
        "- The training process includes:\n",
        "Splitting the data into branches based on feature values.\n",
        "Calculating measures like Gini impurity or information gain to choose the best splits.\n",
        "- On average, about 2/3 of the training data is used to train each tree, while the remaining is left out. These left-out samples are called the Out-Of-Bag (OOB) data.\n",
        "\n",
        "**Testing Set**: The test set is a separate subset of the data, not used during the training phase. It is used to evaluate the performance of the random forest on unseen data.\n",
        "\n",
        "Here, 70% of our dataset is used for the training set and 30% as the test set."
      ],
      "metadata": {
        "id": "etvunQOo03d7"
      }
    },
    {
      "cell_type": "code",
      "source": [
        "#Random Forest - training and test set\n",
        "colnames(exp_data_choice_smoted) <- gsub('-','_',colnames(exp_data_choice_smoted))\n",
        "selected.samples<-sample(c(1:nrow(exp_data_SE2_smoted)),size = nrow(exp_data_SE2_smoted)*0.7)\n",
        "train.data<-exp_data_SE2_smoted[selected.samples,]\n",
        "test.data<-exp_data_SE2_smoted[-selected.samples,]"
      ],
      "metadata": {
        "id": "WPFwY1I0vReT"
      },
      "execution_count": null,
      "outputs": []
    },
    {
      "cell_type": "markdown",
      "source": [
        "Carry out Boruta\n",
        "\n",
        "Boruta: Package to identify which features are most relevant for predicting a target variable."
      ],
      "metadata": {
        "id": "K031LaHONon_"
      }
    },
    {
      "cell_type": "code",
      "source": [
        "install.packages(\"Boruta\")\n",
        "library(Boruta)\n",
        "bor<-Boruta(Disease_stage~.,data=train.data)\n",
        "plot(bor)\n",
        "bor\n",
        "bor_confirmed <- data.frame(bor$finalDecision[bor$finalDecision %in% \"Confirmed\"])\n",
        "bor_confirmed <- rownames(bor_confirmed)"
      ],
      "metadata": {
        "id": "h8vdEfmPvb1z"
      },
      "execution_count": null,
      "outputs": []
    },
    {
      "cell_type": "markdown",
      "source": [
        "Random Forest Model"
      ],
      "metadata": {
        "id": "oaVtakLXcc1w"
      }
    },
    {
      "cell_type": "code",
      "source": [
        "install.packages(\"randomForest\")\n",
        "library(randomForest)\n",
        "set.seed(1)  # Setting seed\n",
        "rf<-randomForest(Disease_stage~.,data=train.data, ntree = 500)"
      ],
      "metadata": {
        "id": "Vvh4t0JcvcFG"
      },
      "execution_count": null,
      "outputs": []
    },
    {
      "cell_type": "markdown",
      "source": [
        "**Plotting the OOB error rate of the model and gini Coefficient.**\n",
        "\n",
        "The error rate in a random forest quantifies how often the model makes incorrect predictions. It reflects the model's ability to generalize to unseen data and is a critical metric for evaluating its performance. OOB Error is a built-in mechanism of random forest that acts as an internal validation set without the need for a separate test set."
      ],
      "metadata": {
        "id": "tHOYAfqU1E0j"
      }
    },
    {
      "cell_type": "code",
      "source": [
        "install.packages(\"ggplot2\")\n",
        "library(ggplot2)\n",
        "oob.error.data <- data.frame(Trees = rep(1:nrow(rf$err.rate), times=3),\n",
        "                             Type = rep(c(\"OOB\",\"IV\",\"Rest\"), each=nrow(rf$err.rate)),\n",
        "                             Error = c(rf$err.rate[,\"OOB\"],\n",
        "                                       rf$err.rate[,\"IV\"],\n",
        "                                       rf$err.rate[,\"Rest\"]))\n",
        "ggplot(data = oob.error.data,aes(x=Trees, y=Error))+\n",
        "  geom_line(aes(color=Type))\n",
        "\n",
        "# Variable importance plot\n",
        "varImpPlot(classifier_RF)"
      ],
      "metadata": {
        "id": "en5vP_cWvfVF"
      },
      "execution_count": null,
      "outputs": []
    },
    {
      "cell_type": "markdown",
      "source": [
        "**Calculating the Out-of-Bag (OOB) Area under curve (AUC) from the model**\n",
        "\n",
        "**AUC:** The AUC measures the ability of a random forest classifier to distinguish between classes. The AUC refers to the area under the Receiver Operating Characteristic (ROC) curve, which is a graphical representation of a classifier’s performance across different classification thresholds.\n",
        "\n",
        "The value of AUC ranges from 0 to 1:\n",
        "- AUC = 0.5: The model performs no better than random guessing.\n",
        "- AUC = 1.0: The model perfectly distinguishes between positive and negative classes.\n",
        "- AUC < 0.5: The model is performing worse than random guessing.\n",
        "\n",
        "**Receiver Operating Characteristic (ROC)**: For each possible threshold (ranging from 0 to 1), the random forest classifier computes the True Positive Rate and False Positive Rate.\n",
        "By plotting these values for each threshold, you create the ROC curve.\n",
        "\n"
      ],
      "metadata": {
        "id": "ciP6QSIk1MVA"
      }
    },
    {
      "cell_type": "code",
      "source": [
        "install.packages(\"ROCR\")\n",
        "library(ROCR)\n",
        "#OOB AUC\n",
        "pred1=predict(rf,type = \"prob\")\n",
        "perf = prediction(as.numeric(pred1[,2]),train.data$Disease_stage)\n",
        "# 1. Area under curve\n",
        "auc = performance(perf, \"auc\")\n",
        "auc <- as.numeric(auc@y.values)\n",
        "auc\n",
        "rf$err.rate[nrow(rf$err.rate),1]\n",
        "# 2. True Positive and Negative Rate\n",
        "pred3 = performance(perf, \"tpr\",\"fpr\")\n",
        "# 3. Plot the ROC curve\n",
        "plot(pred3,main=\"ROC Curve for Random Forest\",col=2,lwd=2)\n",
        "abline(a=0,b=1,lwd=2,lty=2,col=\"gray\")"
      ],
      "metadata": {
        "id": "k7M9mYH1vfYN"
      },
      "execution_count": null,
      "outputs": []
    },
    {
      "cell_type": "markdown",
      "source": [
        "**Validation Analysis on testing dataset**"
      ],
      "metadata": {
        "id": "ufqeNP-P1Z5F"
      }
    },
    {
      "cell_type": "code",
      "source": [
        "install.packages(\"caret\")\n",
        "library(caret)\n",
        "# Validation cohort\n",
        "pred<-predict(rf,test.data)\n",
        "confusionMatrix(pred,test.data$Disease_stage)"
      ],
      "metadata": {
        "id": "3tAtRBZIvfbI"
      },
      "execution_count": null,
      "outputs": []
    },
    {
      "cell_type": "code",
      "source": [
        "#Validation AUC\n",
        "pred1=predict(rf,newdata = test.data,type = \"prob\")\n",
        "perf = prediction(pred1[,2],test.data$Disease_stage)\n",
        "# 1. Area under curve\n",
        "auc = performance(perf, \"auc\")\n",
        "auc <- as.numeric(auc@y.values)\n",
        "auc\n",
        "rf$err.rate[nrow(rf$err.rate),1]\n",
        "# 2. True Positive and Negative Rate\n",
        "pred3 = performance(perf, \"tpr\",\"fpr\")\n",
        "# 3. Plot the ROC curve\n",
        "plot(pred3,main=\"ROC Curve for Random Forest\",col=2,lwd=2)\n",
        "abline(a=0,b=1,lwd=2,lty=2,col=\"gray\")\n"
      ],
      "metadata": {
        "id": "aY_nuQRHvfd-"
      },
      "execution_count": null,
      "outputs": []
    },
    {
      "cell_type": "markdown",
      "source": [
        "# **Your Try**"
      ],
      "metadata": {
        "id": "hj39Z7lpvRH6"
      }
    },
    {
      "cell_type": "code",
      "source": [
        "#view table of disease stages in each cell type\n",
        "table(metadata_SE1$Disease_stage)\n",
        "table(metadata_SE2$Disease_stage)\n",
        "table(metadata_STIC$Disease_stage)\n",
        "\n",
        "#subset expression data in SE2 into disease stages\n",
        "exp_data$CellID <- rownames(exp_data)\n",
        "exp_data_choice <- merge(metadata_choice[,c('CellID','Disease_stage')],exp_data, by='CellID')\n",
        "exp_data_choice$Disease_stage[exp_data_choice$Disease_stage %in% c('other disease stages aka not your chosen disease stage')] <- c('Rest')\n",
        "\n",
        "exp_data_choice <- tibble::column_to_rownames(exp_data_choice, \"CellID\")"
      ],
      "metadata": {
        "id": "ju0hYG6OC8kI"
      },
      "execution_count": null,
      "outputs": []
    },
    {
      "cell_type": "code",
      "source": [
        "exp_data_choice$Disease_stage <- as.factor(exp_data_choice$Disease_stage)\n",
        "\n",
        "table(exp_data_choice$Disease_stage)\n",
        "exp_data_choice_smoted <- performanceEstimation::smote(Disease_stage~.,exp_data_choice, perc.over = , perc.under = )\n",
        "table(exp_data_choice_smoted$Disease_stage)"
      ],
      "metadata": {
        "id": "KJWikSIzDAUG"
      },
      "execution_count": null,
      "outputs": []
    },
    {
      "cell_type": "code",
      "source": [
        "bor<-Boruta(Disease_stage~.,data=train.data)\n",
        "plot(bor)\n",
        "bor\n",
        "bor_confirmed <- data.frame(bor$finalDecision[bor$finalDecision %in% \"Confirmed\"])\n",
        "bor_confirmed <- rownames(bor_confirmed)"
      ],
      "metadata": {
        "id": "mpx3YhDcDDQz"
      },
      "execution_count": null,
      "outputs": []
    },
    {
      "cell_type": "code",
      "source": [
        "set.seed(2)  # Setting seed\n",
        "rf<-randomForest(Disease_stage~.,data=train.data, ntree = 500)"
      ],
      "metadata": {
        "id": "6armG8CgDF6-"
      },
      "execution_count": null,
      "outputs": []
    },
    {
      "cell_type": "code",
      "source": [
        "oob.error.data <- data.frame(Trees = rep(1:nrow(rf$err.rate), times=3),\n",
        "                             Type = rep(c(\"OOB\",\"IV\",\"Rest\"), each=nrow(rf$err.rate)),\n",
        "                             Error = c(rf$err.rate[,\"OOB\"],\n",
        "                                       rf$err.rate[,\"IV\"],\n",
        "                                       rf$err.rate[,\"Rest\"]))\n",
        "ggplot(data = oob.error.data,aes(x=Trees, y=Error))+\n",
        "  geom_line(aes(color=Type))\n",
        "\n",
        "# Variable importance plot\n",
        "varImpPlot(classifier_RF)"
      ],
      "metadata": {
        "id": "GrOzTHI4DNIu"
      },
      "execution_count": null,
      "outputs": []
    },
    {
      "cell_type": "code",
      "source": [
        "#OOB AUC\n",
        "pred1=predict(rf,type = \"prob\")\n",
        "perf = prediction(as.numeric(pred1[,2]),train.data$Disease_stage)\n",
        "# 1. Area under curve\n",
        "auc = performance(perf, \"auc\")\n",
        "auc <- as.numeric(auc@y.values)\n",
        "auc\n",
        "rf$err.rate[nrow(rf$err.rate),1]\n",
        "# 2. True Positive and Negative Rate\n",
        "pred3 = performance(perf, \"tpr\",\"fpr\")\n",
        "# 3. Plot the ROC curve\n",
        "plot(pred3,main=\"ROC Curve for Random Forest\",col=2,lwd=2)\n",
        "abline(a=0,b=1,lwd=2,lty=2,col=\"gray\")"
      ],
      "metadata": {
        "id": "FWE9teNPDTe3"
      },
      "execution_count": null,
      "outputs": []
    },
    {
      "cell_type": "code",
      "source": [
        "# Validation cohort\n",
        "pred<-predict(rf,test.data)\n",
        "confusionMatrix(pred,test.data$Disease_stage)"
      ],
      "metadata": {
        "id": "OKXOaS4rDVEB"
      },
      "execution_count": null,
      "outputs": []
    },
    {
      "cell_type": "code",
      "source": [
        "#Validation AUC\n",
        "pred1=predict(rf,newdata = test.data,type = \"prob\")\n",
        "perf = prediction(pred1[,2],test.data$Disease_stage)\n",
        "# 1. Area under curve\n",
        "auc = performance(perf, \"auc\")\n",
        "auc <- as.numeric(auc@y.values)\n",
        "auc\n",
        "rf$err.rate[nrow(rf$err.rate),1]\n",
        "# 2. True Positive and Negative Rate\n",
        "pred3 = performance(perf, \"tpr\",\"fpr\")\n",
        "# 3. Plot the ROC curve\n",
        "plot(pred3,main=\"ROC Curve for Random Forest\",col=2,lwd=2)\n",
        "abline(a=0,b=1,lwd=2,lty=2,col=\"gray\")"
      ],
      "metadata": {
        "id": "VUVBnulcDXCj"
      },
      "execution_count": null,
      "outputs": []
    }
  ]
}