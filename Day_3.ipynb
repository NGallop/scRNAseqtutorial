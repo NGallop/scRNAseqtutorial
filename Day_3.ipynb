{
  "nbformat": 4,
  "nbformat_minor": 0,
  "metadata": {
    "colab": {
      "provenance": [],
      "authorship_tag": "ABX9TyOKdFrqd0bRn1k4tbGdwV1N",
      "include_colab_link": true
    },
    "kernelspec": {
      "name": "ir",
      "display_name": "R"
    },
    "language_info": {
      "name": "R"
    }
  },
  "cells": [
    {
      "cell_type": "markdown",
      "metadata": {
        "id": "view-in-github",
        "colab_type": "text"
      },
      "source": [
        "<a href=\"https://colab.research.google.com/github/lilywright99/scRNAseqtutorial/blob/main/Day_3.ipynb\" target=\"_parent\"><img src=\"https://colab.research.google.com/assets/colab-badge.svg\" alt=\"Open In Colab\"/></a>"
      ]
    },
    {
      "cell_type": "markdown",
      "source": [
        "Whole Network Entropy (**Day 3**)\n",
        "\n",
        "1.   Select 1 cell type and subset expression data --- *we would provide one example and perhaps they could carry out on further work with 2 different cell types*\n",
        "2.   1000 iterations of 100 genes --- *purpose: aid in understanding the concepts of network and entropy, what it means to have high and low entropy within a network and how areas within a network could distort the overall entropy, thus missing out on key information. Also introducing iterations and subsampling.*\n",
        "3.   Bayesian resampling on the 1000 entropy values to create probability distribution --- *purpose: introduce bayesian analysis and how it differs from standard statistical tests; prior and posterior distributions.*"
      ],
      "metadata": {
        "id": "SX0CF6X5kplx"
      }
    },
    {
      "cell_type": "markdown",
      "source": [
        "### **1. Load in data**"
      ],
      "metadata": {
        "id": "k2JRvRiVoDZL"
      }
    },
    {
      "cell_type": "code",
      "source": [
        "exp_data <- read.csv('/content/X.csv', header=FALSE)\n",
        "metadata <-read.csv('/content/obs.csv')\n",
        "var_data<- read.csv('/content/var.csv')\n",
        "\n",
        "rownames(exp_data)<-metadata$CellID\n",
        "colnames(exp_data)<-var_data$Gene\n"
      ],
      "metadata": {
        "id": "H-XwBIkUk9DX"
      },
      "execution_count": null,
      "outputs": []
    },
    {
      "cell_type": "markdown",
      "source": [
        "### **2. Create Metadata and Expression data for the 3 cell types; Secretory Epithelial-1, Secretory Epithelial-2, STIC lesion**"
      ],
      "metadata": {
        "id": "Q-iAeXP8oBWJ"
      }
    },
    {
      "cell_type": "code",
      "source": [
        "install.packages(\"dplyr\")\n",
        "library(dplyr)\n",
        "metadata_SE1 <- metadata[metadata$Celltype %in% c('Secretory Epithelial-1'),]\n",
        "exp_data_SE1 <- exp_data[rownames(exp_data) %in% metadata_SE1$CellID,]\n",
        "\n",
        "metadata_SE2 <- metadata[metadata$Celltype %in% c('Secretory Epithelial-2'),]\n",
        "exp_data_SE2 <- exp_data[rownames(exp_data) %in% metadata_SE2$CellID,]\n",
        "\n",
        "metadata_STIC <- metadata[metadata$Celltype %in% c('STIC lesion'),]\n",
        "exp_data_STIC <- exp_data[rownames(exp_data) %in% metadata_STIC$CellID,]"
      ],
      "metadata": {
        "id": "BuEE6rSIn69b"
      },
      "execution_count": null,
      "outputs": []
    },
    {
      "cell_type": "markdown",
      "source": [
        "### **3. Entropy Analysis**\n",
        "\n",
        "From the expression data of each cell type we would sample 50 genes and calculate the entropy of the expression levels of the 50 genes. Sampling will be iterated 100 times. Finally a boxplot will be plotted to represent the 100 entropy values in each cell type.\n",
        "\n",
        "\n",
        "*   **Entropy**: Entropy quantifies the amount of uncertainty or randomness in information content. Introduced by Claude Shannon, it is the average number of bits required to encode a message or the unpredictability of a data source.\n",
        "\n",
        "  - High entropy: A message is highly unpredictable or random\n",
        "  \n",
        "  - Low entropy: A message is predictable or repetitive\n",
        "  - Example: A fair coin flip has 1 bit of entropy per flip because there are two equally likely outcomes (heads or tails).\n",
        "*   **Sampling/Subsampling**: A technique used to extract a smaller subset of data (a \"subsample\") from a larger sample or dataset. It is often employed to reduce computational complexity, test robustness, or handle large datasets efficiently without analyzing the entire sample.\n",
        "\n",
        "* **Purpose**: To provide better coverage of the network. Calculating a single entropy of the entire network could mask clusters/areas of very high or low entropy."
      ],
      "metadata": {
        "id": "pAvNuzBHqV-h"
      }
    },
    {
      "cell_type": "code",
      "source": [
        "install.packages(\"BioQC\")\n",
        "library(BioQC)\n",
        "\n",
        "exp_data_SE1 <- t(exp_data_SE1)\n",
        "exp_data_SE2 <- t(exp_data_SE2)\n",
        "exp_data_STIC <- t(exp_data_STIC)\n",
        "\n",
        "compilation_SE1 <- data.frame()\n",
        "\n",
        "for (x in 1:100) {\n",
        "  n <- sample(1:nrow(exp_data_SE1), 50, replace=FALSE)\n",
        "  test <- exp_data_SE1[n,]\n",
        "  entropy <- BioQC::entropy(test)\n",
        "  samples <- append(n,entropy)\n",
        "  compilation_SE1 <- rbind(compilation_SE1, samples)\n",
        "}\n",
        "\n",
        "compilation_SE2 <- data.frame()\n",
        "\n",
        "for (x in 1:100) {\n",
        "  n <- sample(1:nrow(exp_data_SE2), 50, replace=FALSE)\n",
        "  test <- exp_data_SE2[n,]\n",
        "  entropy <- BioQC::entropy(test)\n",
        "  samples <- append(n,entropy)\n",
        "  compilation_SE2 <- rbind(compilation_SE2, samples)\n",
        "}\n",
        "\n",
        "compilation_STIC <- data.frame()\n",
        "\n",
        "for (x in 1:100) {\n",
        "  n <- sample(1:nrow(exp_data_STIC), 50, replace=FALSE)\n",
        "  test <- exp_data_STIC[n,]\n",
        "  entropy <- BioQC::entropy(test)\n",
        "  samples <- append(n,entropy)\n",
        "  compilation_STIC <- rbind(compilation_STIC, samples)\n",
        "}"
      ],
      "metadata": {
        "id": "OO_3K4pOn67S"
      },
      "execution_count": null,
      "outputs": []
    },
    {
      "cell_type": "code",
      "source": [
        "colnames(compilation_SE1) <- c(paste0(\"f\", 1:50), \"Entropy\")\n",
        "boxplot(compilation_SE1$Entropy,\n",
        "        main=\"Secretory Epithelial-1\",\n",
        "        ylab=\"Shannon Entropy\")\n",
        "\n",
        "colnames(compilation_SE2) <- c(paste0(\"f\", 1:50), \"Entropy\")\n",
        "boxplot(compilation_SE2$Entropy,\n",
        "        main=\"Secretory Epithelial-2\",\n",
        "        ylab=\"Shannon Entropy\")\n",
        "\n",
        "colnames(compilation_STIC) <- c(paste0(\"f\", 1:50), \"Entropy\")\n",
        "boxplot(compilation_STIC$Entropy,\n",
        "        main=\"STIC lesion\",\n",
        "        ylab=\"Shannon Entropy\")"
      ],
      "metadata": {
        "id": "IZUgnREdsbT3"
      },
      "execution_count": null,
      "outputs": []
    },
    {
      "cell_type": "markdown",
      "source": [
        "### **4. Bayesian Analysis**\n",
        "\n",
        "Select 2 cell types to determine how different they are based on the entropy values.\n",
        "\n",
        "* **Bayesian Statistics**: An approach to statistical inference that uses probability to quantify uncertainty and incorporates prior knowledge or beliefs into the analysis. This framework contrasts with frequentist statistics, which relies solely on observed data without incorporating prior beliefs. Bayesian methods are particularly useful in situations involving uncertainty, limited data, or complex models.\n",
        "\n",
        "  - Prior Distribution: Represents initial beliefs about parameters before observing data.\n",
        "Can be subjective (based on expert knowledge) or non-informative (flat or uniform to express no strong initial belief).\n",
        "  - Likelihood : Describes how likely the observed data is, assuming a particular hypothesis.\n",
        "  - Posterior Distribution: Combines the prior and likelihood to provide the updated belief about the hypothesis.\n",
        "  - Bayesian Updating: As new data is observed, the posterior from one analysis becomes the prior for the next. This iterative process refines estimates over time."
      ],
      "metadata": {
        "id": "Y2S4I--3r9_C"
      }
    },
    {
      "cell_type": "code",
      "source": [
        "install.packages(\"BayesFactor\")\n",
        "library(BayesFactor)\n",
        "\n",
        "bayes_SE1 <-  ttestBF(x= compilation_SE1$Entropy, posterior = TRUE ,iterations = 1000)\n",
        "plot(bayes_SE1[,\"mu\"])\n",
        "\n",
        "bayes_STIC <-  ttestBF(x= compilation_STIC$Entropy, posterior = TRUE ,iterations = 1000)\n",
        "plot(bayes_STIC[,\"mu\"])\n",
        "\n",
        "bayes_SE1_STIC <-  ttestBF(x= compilation_STIC$Entropy, y=compilation_SE1$Entropy,\n",
        "                           posterior = TRUE ,iterations = 1000, paired = TRUE)\n",
        "\n",
        "post_SE1<- data.frame(mu = as.numeric(bayes_SE1[,\"mu\"]), Posterior = 'Secretory Epithelial-1')\n",
        "post_STIC<- data.frame(mu = as.numeric(bayes_STIC[,\"mu\"]), Posterior = 'STIC lesion')\n",
        "post_SE1_STIC<- data.frame(mu = as.numeric(bayes_SE1_STIC[,\"mu\"]), Posterior = 'Secretory Epithelial-1 & STIC lesion')"
      ],
      "metadata": {
        "id": "0LG6QNG1n645"
      },
      "execution_count": null,
      "outputs": []
    },
    {
      "cell_type": "markdown",
      "source": [
        "**Plot Posterior distribution**\n",
        "\n",
        "* **Confidence Interval**: This is the range of values you expect your estimate to fall between if you redo your test, within a certain level of confidence. The interval is defined by the confidence level, which is the percentage of times you expect to reproduce an estimate between the upper and lower bounds of the confidence interval. Here The confidence level is set at 95%, thus you can be confident that 95 out of 100 times the estimate will fall between the upper and lower values specified by the confidence interval."
      ],
      "metadata": {
        "id": "6gg36JeOtmTf"
      }
    },
    {
      "cell_type": "code",
      "source": [],
      "metadata": {
        "id": "CJ6Ta24nM5mI"
      },
      "execution_count": null,
      "outputs": []
    },
    {
      "cell_type": "code",
      "source": [
        "install.packages(\"HDInterval\")\n",
        "library(HDInterval)\n",
        "ci95<-hdi(post)\n",
        "\n",
        "plot_post_SE1 <- ggplot(post_SE1, aes(x=mu))+\n",
        "  geom_histogram(color=\"darkblue\", fill=\"lightblue\")\n",
        "\n",
        "plot_post_STIC <- ggplot(post_STIC, aes(x=mu))+\n",
        "  geom_histogram(color=\"red\", fill=\"pink\")\n",
        "\n",
        "plot_post_SE1_STIC <- ggplot(post_SE1_STIC, aes(x=mu))+\n",
        "  geom_histogram(color=\"darkgreen\", fill=\"green\") +\n",
        "  geom_vline(xintercept = ci95, linetype=\"dashed\",\n",
        "             color = \"black\", size=1, )\n",
        "\n",
        "install.packages(\"ggpubr\")\n",
        "library(ggpubr)\n",
        "ggarrange(plot_post_SE1, plot_post_STIC, plot_post_SE1_STIC + rremove(\"x.text\"),\n",
        "          labels = c(\"A\", \"B\", \"C\"),\n",
        "          ncol = 1, nrow = 3)"
      ],
      "metadata": {
        "id": "-BkQJPflrl7S"
      },
      "execution_count": null,
      "outputs": []
    },
    {
      "cell_type": "markdown",
      "source": [
        "# **Try Part 4 and Part 5 yourself with a different combination of the 2 cell types**"
      ],
      "metadata": {
        "id": "gSo3O3ChOhzY"
      }
    },
    {
      "cell_type": "code",
      "source": [
        "bayes_Choice1 <-  ttestBF(x= compilation_Choice1$Entropy, posterior = TRUE ,iterations = 1000)\n",
        "plot(bayes_Choice1[,\"mu\"])\n",
        "\n",
        "bayes_Choice2 <-  ttestBF(x= compilation_Choice2$Entropy, posterior = TRUE ,iterations = 1000)\n",
        "plot(bayes_Choice2[,\"mu\"])\n",
        "\n",
        "bayes_Choice1_Choice2 <-  ttestBF(x= compilation_Choice1$Entropy, y=compilation_Choice2$Entropy,\n",
        "                           posterior = TRUE ,iterations = 1000, paired = TRUE)\n",
        "\n",
        "post_Choice1<- data.frame(mu = as.numeric(bayes_Choice1[,\"mu\"]), Posterior = 'Choice 1')\n",
        "post_Choice2<- data.frame(mu = as.numeric(bayes_Choice2[,\"mu\"]), Posterior = 'Choice 2')\n",
        "post_Choice1_Choice2<- data.frame(mu = as.numeric(bayes_Choice1_Choice2[,\"mu\"]), Posterior = 'Choice 1 & Choice 2')"
      ],
      "metadata": {
        "id": "UYfPVj4xn62a"
      },
      "execution_count": null,
      "outputs": []
    },
    {
      "cell_type": "code",
      "source": [
        "install.packages(\"HDInterval\")\n",
        "library(HDInterval)\n",
        "ci95<-hdi(post)\n",
        "\n",
        "plot_post_Choice1 <- ggplot(post_Choice1, aes(x=mu))+\n",
        "  geom_histogram(color=\"darkblue\", fill=\"lightblue\")\n",
        "\n",
        "plot_post_Choice2 <- ggplot(post_Choice2, aes(x=mu))+\n",
        "  geom_histogram(color=\"red\", fill=\"pink\")\n",
        "\n",
        "plot_post_Choice1_Choice2 <- ggplot(post_Choice1_Choice2, aes(x=mu))+\n",
        "  geom_histogram(color=\"darkgreen\", fill=\"green\") +\n",
        "  geom_vline(xintercept = ci95, linetype=\"dashed\",\n",
        "             color = \"black\", size=1, )\n",
        "\n",
        "install.packages(\"ggpubr\")\n",
        "library(ggpubr)\n",
        "ggarrange(plot_post_choice1, plot_post_choice2, plot_post_Choice1_Choice2 + rremove(\"x.text\"),\n",
        "          labels = c(\"A\", \"B\", \"C\"),\n",
        "          ncol = 1, nrow = 3)"
      ],
      "metadata": {
        "id": "B8LiiG5ln6sf"
      },
      "execution_count": null,
      "outputs": []
    },
    {
      "cell_type": "code",
      "source": [],
      "metadata": {
        "id": "Bn66k0Egn6E_"
      },
      "execution_count": null,
      "outputs": []
    }
  ]
}